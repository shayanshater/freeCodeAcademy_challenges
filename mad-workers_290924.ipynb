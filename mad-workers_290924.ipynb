{
 "cells": [
  {
   "cell_type": "markdown",
   "metadata": {},
   "source": [
    "### Genshin Impact Sentiment Challenge\n",
    "\n",
    "I got busted playing Genshin Impact at work... Some of my coworkers are pretty upset with me. I need your help. I have a general idea of how upset each coworker is, but I need the overall sentiment of the team.\n",
    "\n",
    "#### Challenge:\n",
    "Given an object whose keys are strings representing the names of my coworkers, and whose values are numbers representing how much they still like me, return whether or not I should quit before I get fired.\n",
    "\n",
    "You should determine this by finding the average sentiment between all of my coworkers. If it is **5 or less**, tell me **GTFO!** If it is **more than 5**, tell me **You're gucci**.\n",
    "\n",
    "Oh, and if you see my boss, her score counts for double. I'll tell you her name as the second input.\n",
    "\n",
    "#### Constraints:\n",
    "- Object values are numbers between `1 ≤ 10`.\n",
    "- Keys will always be lowercase strings.\n",
    "\n",
    "#### Test Cases:\n",
    "- With inputs `{'tim':0, 'jim':2, 'randy':0, 'sandy':7, 'andy':0, 'katie':5, 'laura':1, 'saajid':2, 'alex':3, 'john':2, 'mr':0}` and `laura`, return **GTFO!**\n",
    "- With inputs `{'tim':1, 'jim':3, 'randy':9, 'sandy':6, 'andy':7, 'katie':6, 'laura':9, 'saajid':9, 'alex':9, 'john':9, 'mr':8}` and `katie`, return **You're gucci**.\n",
    "- With inputs `{'tim':2, 'jim':4, 'randy':0, 'sandy':5, 'andy':8, 'katie':6, 'laura':2, 'saajid':2, 'alex':3, 'john':2, 'mr':8}` and `john`, return **GTFO!**\n"
   ]
  },
  {
   "cell_type": "code",
   "execution_count": 46,
   "metadata": {},
   "outputs": [],
   "source": [
    "#initialising a function which takes the worker list and the bosses name.\n",
    "def leave_or_stay(worker_scores,boss):\n",
    "    \n",
    "    #doubling the bosses score\n",
    "    worker_scores[boss] *= 2\n",
    "    \n",
    "    \n",
    "    \n",
    "    #calculating the average sentiment\n",
    "    sum_sentiment = 0\n",
    "    for worker, sentiment in worker_scores.items():\n",
    "        sum_sentiment += sentiment\n",
    "    average_sentiment = sum_sentiment/ len(worker_scores)\n",
    "    \n",
    "    \n",
    "    \n",
    "    #evaluating the average sentiment\n",
    "    if average_sentiment <=5:\n",
    "        print(\"GTFO.\")\n",
    "    else:\n",
    "        print(\"You're Gucci.\")"
   ]
  },
  {
   "cell_type": "code",
   "execution_count": 47,
   "metadata": {},
   "outputs": [
    {
     "name": "stdout",
     "output_type": "stream",
     "text": [
      "GTFO.\n"
     ]
    }
   ],
   "source": [
    "#test case 1 \n",
    "employees = {'tim':0, 'jim':2, 'randy':0, 'sandy':7, 'andy':0, 'katie':5, 'laura':1, 'saajid':2, 'alex':3, 'john':2, 'mr':0}\n",
    "leave_or_stay(employees,'laura')"
   ]
  },
  {
   "cell_type": "code",
   "execution_count": 48,
   "metadata": {},
   "outputs": [
    {
     "name": "stdout",
     "output_type": "stream",
     "text": [
      "You're Gucci.\n"
     ]
    }
   ],
   "source": [
    "#test case 2\n",
    "employees = {'tim':1, 'jim':3, 'randy':9, 'sandy':6, 'andy':7, 'katie':6, 'laura':9, 'saajid':9, 'alex':9, 'john':9, 'mr':8}\n",
    "leave_or_stay(employees,'katie')"
   ]
  },
  {
   "cell_type": "code",
   "execution_count": 49,
   "metadata": {},
   "outputs": [
    {
     "name": "stdout",
     "output_type": "stream",
     "text": [
      "GTFO.\n"
     ]
    }
   ],
   "source": [
    "#test case 3\n",
    "employees = {'tim':2, 'jim':4, 'randy':0, 'sandy':5, 'andy':8, 'katie':6, 'laura':2, 'saajid':2, 'alex':3, 'john':2, 'mr':8}\n",
    "leave_or_stay(employees,'john')"
   ]
  }
 ],
 "metadata": {
  "kernelspec": {
   "display_name": ".venv",
   "language": "python",
   "name": "python3"
  },
  "language_info": {
   "codemirror_mode": {
    "name": "ipython",
    "version": 3
   },
   "file_extension": ".py",
   "mimetype": "text/x-python",
   "name": "python",
   "nbconvert_exporter": "python",
   "pygments_lexer": "ipython3",
   "version": "3.12.6"
  }
 },
 "nbformat": 4,
 "nbformat_minor": 2
}
