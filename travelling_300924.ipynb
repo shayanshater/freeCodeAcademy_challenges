{
 "cells": [
  {
   "cell_type": "markdown",
   "metadata": {},
   "source": [
    "### Walk Challenge\n",
    "\n",
    "I have a meeting in ten minutes, and I'd love to sneak a little walk in. \n",
    "\n",
    "I can walk one city block per minute, so I should be able to plan out a valid route. \n",
    "\n",
    "I'm representing my walk as an array of cardinal directions `n`, `s`, `w`, `e`.\n",
    "\n",
    "#### Challenge:\n",
    "Given an array of directions to walk, return `true` if the route will:\n",
    "1. Take me **exactly 10 minutes**.\n",
    "2. Return me **back to my office**.\n",
    "\n",
    "#### Constraints:\n",
    "- A route will only contain the four cardinal directions: `n`, `s`, `w`, `e`.\n",
    "- You don't need to worry about my ability to travel up and down; my superpowers are a secret anyway. 🤫\n",
    "\n",
    "#### Test Cases:\n",
    "- With input `['n','s','n','s','n','s','n','s','n','s']`, return `true`.\n",
    "- With input `['w','e','w','e','w','e','w','e','w','e','w','e']`, return `false`.\n",
    "- With input `['n', 's', 'e', 'w', 's', 'e', 'n', 'w', 'w', 'e']`, return `true`.\n",
    "- With input `['w']`, return `false`.\n",
    "- With input `['n','n','n','s','n','s','n','s','n','s']`, return `false`.\n",
    "\n",
    "\n",
    " "
   ]
  },
  {
   "cell_type": "code",
   "execution_count": 6,
   "metadata": {},
   "outputs": [],
   "source": [
    "#Requirements: numpy\n",
    "\n",
    "\n",
    "#import numpy for arrays\n",
    "import numpy as np\n",
    "\n",
    "\n",
    "#using a function to solve this\n",
    "def route_master (array):\n",
    "    #set initial coordinates\n",
    "    n=0\n",
    "    e=0\n",
    "    s=0\n",
    "    w=0\n",
    "    \n",
    "    \n",
    "    #counting directional displacement\n",
    "    for i in array:\n",
    "        if i =='n':\n",
    "            n += 1\n",
    "        elif i == 'e':\n",
    "            e += 1\n",
    "        elif i == 's':\n",
    "            s += 1\n",
    "        elif i == 'w':\n",
    "            w +=1\n",
    "        \n",
    "        #error proofing\n",
    "        else:\n",
    "            print('route[array] contain incompatable information')\n",
    "     \n",
    "     #checking if there is no displacement and that the route takes 10 minutes (we could do 10 mins or less because it would still make sense but the problem asks for exactly 10 mins)     \n",
    "    if n - s == 0 and e - w == 0 and len(array) == 10:\n",
    "        print('True')\n",
    "    else:\n",
    "        print(False)"
   ]
  },
  {
   "cell_type": "code",
   "execution_count": 7,
   "metadata": {},
   "outputs": [
    {
     "name": "stdout",
     "output_type": "stream",
     "text": [
      "True\n",
      "False\n",
      "True\n",
      "False\n",
      "False\n",
      "True\n"
     ]
    }
   ],
   "source": [
    "route0 = np.array(['n','s','n','s','n','s','n','s','n','s'])\n",
    "route1 = np.array(['w','e','w','e','w','e','w','e','w','e','w','e'])\n",
    "route2 = np.array(['n', 's', 'e', 'w', 's', 'e', 'n', 'w', 'w', 'e'])\n",
    "route3 = np.array(['w'])\n",
    "route4 = np.array(['n','n','n','s','n','s','n','s','n','s'])\n",
    "\n",
    "\n",
    "#my own tests\n",
    "route5 = np.array(['n','s','e','w','n','s','e','w','e','w'])\n",
    "\n",
    "\n",
    "route_master(route0)\n",
    "route_master(route1)\n",
    "route_master(route2)\n",
    "route_master(route3)\n",
    "route_master(route4)\n",
    "route_master(route5)"
   ]
  },
  {
   "cell_type": "code",
   "execution_count": null,
   "metadata": {},
   "outputs": [],
   "source": []
  }
 ],
 "metadata": {
  "kernelspec": {
   "display_name": "Python 3",
   "language": "python",
   "name": "python3"
  },
  "language_info": {
   "codemirror_mode": {
    "name": "ipython",
    "version": 3
   },
   "file_extension": ".py",
   "mimetype": "text/x-python",
   "name": "python",
   "nbconvert_exporter": "python",
   "pygments_lexer": "ipython3",
   "version": "3.12.6"
  }
 },
 "nbformat": 4,
 "nbformat_minor": 2
}
