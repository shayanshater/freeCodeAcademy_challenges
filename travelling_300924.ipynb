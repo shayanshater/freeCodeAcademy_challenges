{
 "cells": [
  {
   "cell_type": "code",
   "execution_count": 1,
   "metadata": {},
   "outputs": [],
   "source": [
    "import numpy as np\n",
    "\n",
    "def route_master (array):\n",
    "    n=0\n",
    "    e=0\n",
    "    s=0\n",
    "    w=0\n",
    "    \n",
    "    for i in array:\n",
    "        if i =='n':\n",
    "            n += 1\n",
    "        elif i == 'e':\n",
    "            e += 1\n",
    "        elif i == 's':\n",
    "            s += 1\n",
    "        elif i = 'w':\n",
    "            w +=1\n",
    "        else:\n",
    "            print('route[array] contain incompatable information')\n",
    "            \n",
    "    if "
   ]
  },
  {
   "cell_type": "code",
   "execution_count": null,
   "metadata": {},
   "outputs": [],
   "source": []
  }
 ],
 "metadata": {
  "kernelspec": {
   "display_name": "Python 3",
   "language": "python",
   "name": "python3"
  },
  "language_info": {
   "codemirror_mode": {
    "name": "ipython",
    "version": 3
   },
   "file_extension": ".py",
   "mimetype": "text/x-python",
   "name": "python",
   "nbconvert_exporter": "python",
   "pygments_lexer": "ipython3",
   "version": "3.12.6"
  }
 },
 "nbformat": 4,
 "nbformat_minor": 2
}
